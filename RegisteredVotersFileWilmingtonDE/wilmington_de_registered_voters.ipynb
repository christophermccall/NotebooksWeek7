{
 "cells": [
  {
   "cell_type": "markdown",
   "metadata": {},
   "source": [
    "Import numpy and pandas."
   ]
  },
  {
   "cell_type": "code",
   "execution_count": 1,
   "metadata": {},
   "outputs": [],
   "source": [
    "import pandas as pd\n",
    "import numpy as np"
   ]
  },
  {
   "cell_type": "markdown",
   "metadata": {},
   "source": [
    "Using the bash magic command, view the list of files inside of the data directory."
   ]
  },
  {
   "cell_type": "code",
   "execution_count": 2,
   "metadata": {},
   "outputs": [
    {
     "name": "stdout",
     "output_type": "stream",
     "text": [
      "README.md                              wilmington_de_registered_voters.ipynb\n",
      "\u001b[34mdata\u001b[m\u001b[m/\n"
     ]
    }
   ],
   "source": [
    "# \n",
    "%ls"
   ]
  },
  {
   "cell_type": "code",
   "execution_count": 3,
   "metadata": {},
   "outputs": [
    {
     "name": "stdout",
     "output_type": "stream",
     "text": [
      "/Users/chris/pyprojects/NotebooksWeek7/RegisteredVotersFileWilmingtonDE/data\n"
     ]
    }
   ],
   "source": [
    "%cd data"
   ]
  },
  {
   "cell_type": "code",
   "execution_count": 4,
   "metadata": {},
   "outputs": [
    {
     "name": "stdout",
     "output_type": "stream",
     "text": [
      "ActiveFile-Wilm1thru8-20191015.csv\n",
      "DE-VoterFile-Documentation 20171010.pdf\n"
     ]
    }
   ],
   "source": [
    "%ls"
   ]
  },
  {
   "cell_type": "markdown",
   "metadata": {},
   "source": [
    "Load the csv file into a Pandas DataFrame."
   ]
  },
  {
   "cell_type": "code",
   "execution_count": 5,
   "metadata": {},
   "outputs": [
    {
     "name": "stderr",
     "output_type": "stream",
     "text": [
      "/var/folders/y_/88_bvhts341bf74krgd3hgch0000gp/T/ipykernel_17110/4172952483.py:2: DtypeWarning: Columns (18,32,35,36,37,40,41,42,46) have mixed types. Specify dtype option on import or set low_memory=False.\n",
      "  df = pd.read_csv('../data/ActiveFile-Wilm1thru8-20191015.csv')\n"
     ]
    }
   ],
   "source": [
    "# \n",
    "df = pd.read_csv('../data/ActiveFile-Wilm1thru8-20191015.csv')"
   ]
  },
  {
   "cell_type": "markdown",
   "metadata": {},
   "source": [
    "Display a list of columns in the DataFrame."
   ]
  },
  {
   "cell_type": "code",
   "execution_count": 6,
   "metadata": {},
   "outputs": [
    {
     "data": {
      "text/html": [
       "<div>\n",
       "<style scoped>\n",
       "    .dataframe tbody tr th:only-of-type {\n",
       "        vertical-align: middle;\n",
       "    }\n",
       "\n",
       "    .dataframe tbody tr th {\n",
       "        vertical-align: top;\n",
       "    }\n",
       "\n",
       "    .dataframe thead th {\n",
       "        text-align: right;\n",
       "    }\n",
       "</style>\n",
       "<table border=\"1\" class=\"dataframe\">\n",
       "  <thead>\n",
       "    <tr style=\"text-align: right;\">\n",
       "      <th></th>\n",
       "      <th>UNIQUE-ID</th>\n",
       "      <th>LAST-NAME</th>\n",
       "      <th>FIRST-NAME</th>\n",
       "      <th>MID-INIT</th>\n",
       "      <th>SUFFIX</th>\n",
       "      <th>YEAR-OF-BIRTH</th>\n",
       "      <th>HOME-NO</th>\n",
       "      <th>HOME-APT</th>\n",
       "      <th>HOME-STREET</th>\n",
       "      <th>HOME-DEV</th>\n",
       "      <th>...</th>\n",
       "      <th>REF-HIST-5</th>\n",
       "      <th>MAIL-NO</th>\n",
       "      <th>MAIL-APT</th>\n",
       "      <th>MAIL-STR</th>\n",
       "      <th>MAIL-CITY</th>\n",
       "      <th>MAIL-STATE</th>\n",
       "      <th>MAIL-ZIP</th>\n",
       "      <th>DATE-LAST-CHG</th>\n",
       "      <th>CODE-CHANGE</th>\n",
       "      <th>STATUS</th>\n",
       "    </tr>\n",
       "  </thead>\n",
       "  <tbody>\n",
       "    <tr>\n",
       "      <th>0</th>\n",
       "      <td>100234840</td>\n",
       "      <td>ROY</td>\n",
       "      <td>BEVERLY</td>\n",
       "      <td>A</td>\n",
       "      <td>NaN</td>\n",
       "      <td>1952</td>\n",
       "      <td>320</td>\n",
       "      <td>#912</td>\n",
       "      <td>E 5TH ST</td>\n",
       "      <td>HERLIHY HOUSE APTS</td>\n",
       "      <td>...</td>\n",
       "      <td>NaN</td>\n",
       "      <td>NaN</td>\n",
       "      <td>NaN</td>\n",
       "      <td>NaN</td>\n",
       "      <td>NaN</td>\n",
       "      <td>NaN</td>\n",
       "      <td>NaN</td>\n",
       "      <td>20180715</td>\n",
       "      <td>CR</td>\n",
       "      <td>A</td>\n",
       "    </tr>\n",
       "    <tr>\n",
       "      <th>1</th>\n",
       "      <td>100685572</td>\n",
       "      <td>WILLIAMS</td>\n",
       "      <td>LISA</td>\n",
       "      <td>F</td>\n",
       "      <td>NaN</td>\n",
       "      <td>1968</td>\n",
       "      <td>826</td>\n",
       "      <td>NaN</td>\n",
       "      <td>W 5TH ST</td>\n",
       "      <td>NaN</td>\n",
       "      <td>...</td>\n",
       "      <td>NaN</td>\n",
       "      <td>NaN</td>\n",
       "      <td>NaN</td>\n",
       "      <td>NaN</td>\n",
       "      <td>NaN</td>\n",
       "      <td>NaN</td>\n",
       "      <td>NaN</td>\n",
       "      <td>20180715</td>\n",
       "      <td>CR</td>\n",
       "      <td>A</td>\n",
       "    </tr>\n",
       "    <tr>\n",
       "      <th>2</th>\n",
       "      <td>100485262</td>\n",
       "      <td>HARRIS</td>\n",
       "      <td>JOSEPH</td>\n",
       "      <td>A</td>\n",
       "      <td>III</td>\n",
       "      <td>1963</td>\n",
       "      <td>2616</td>\n",
       "      <td>NaN</td>\n",
       "      <td>W 18TH ST</td>\n",
       "      <td>NaN</td>\n",
       "      <td>...</td>\n",
       "      <td>NaN</td>\n",
       "      <td>NaN</td>\n",
       "      <td>NaN</td>\n",
       "      <td>NaN</td>\n",
       "      <td>NaN</td>\n",
       "      <td>NaN</td>\n",
       "      <td>NaN</td>\n",
       "      <td>20180715</td>\n",
       "      <td>CR</td>\n",
       "      <td>A</td>\n",
       "    </tr>\n",
       "    <tr>\n",
       "      <th>3</th>\n",
       "      <td>100349191</td>\n",
       "      <td>LAMBORN</td>\n",
       "      <td>GERALD</td>\n",
       "      <td>V</td>\n",
       "      <td>NaN</td>\n",
       "      <td>1958</td>\n",
       "      <td>706</td>\n",
       "      <td>NaN</td>\n",
       "      <td>W 34TH ST</td>\n",
       "      <td>NaN</td>\n",
       "      <td>...</td>\n",
       "      <td>NaN</td>\n",
       "      <td>NaN</td>\n",
       "      <td>NaN</td>\n",
       "      <td>NaN</td>\n",
       "      <td>NaN</td>\n",
       "      <td>NaN</td>\n",
       "      <td>NaN</td>\n",
       "      <td>20190805</td>\n",
       "      <td>CR</td>\n",
       "      <td>A</td>\n",
       "    </tr>\n",
       "    <tr>\n",
       "      <th>4</th>\n",
       "      <td>100394887</td>\n",
       "      <td>KRYSTOPOLSKI</td>\n",
       "      <td>ANDREW</td>\n",
       "      <td>R</td>\n",
       "      <td>NaN</td>\n",
       "      <td>1981</td>\n",
       "      <td>1009</td>\n",
       "      <td>NaN</td>\n",
       "      <td>ANCHORAGE ST</td>\n",
       "      <td>NaN</td>\n",
       "      <td>...</td>\n",
       "      <td>NaN</td>\n",
       "      <td>NaN</td>\n",
       "      <td>NaN</td>\n",
       "      <td>NaN</td>\n",
       "      <td>NaN</td>\n",
       "      <td>NaN</td>\n",
       "      <td>NaN</td>\n",
       "      <td>20180715</td>\n",
       "      <td>CR</td>\n",
       "      <td>A</td>\n",
       "    </tr>\n",
       "    <tr>\n",
       "      <th>...</th>\n",
       "      <td>...</td>\n",
       "      <td>...</td>\n",
       "      <td>...</td>\n",
       "      <td>...</td>\n",
       "      <td>...</td>\n",
       "      <td>...</td>\n",
       "      <td>...</td>\n",
       "      <td>...</td>\n",
       "      <td>...</td>\n",
       "      <td>...</td>\n",
       "      <td>...</td>\n",
       "      <td>...</td>\n",
       "      <td>...</td>\n",
       "      <td>...</td>\n",
       "      <td>...</td>\n",
       "      <td>...</td>\n",
       "      <td>...</td>\n",
       "      <td>...</td>\n",
       "      <td>...</td>\n",
       "      <td>...</td>\n",
       "      <td>...</td>\n",
       "    </tr>\n",
       "    <tr>\n",
       "      <th>51904</th>\n",
       "      <td>100876849</td>\n",
       "      <td>BROOMER</td>\n",
       "      <td>CHERLOTTE</td>\n",
       "      <td>D</td>\n",
       "      <td>NaN</td>\n",
       "      <td>1974</td>\n",
       "      <td>1340</td>\n",
       "      <td>NaN</td>\n",
       "      <td>LANCASTER AVE</td>\n",
       "      <td>NaN</td>\n",
       "      <td>...</td>\n",
       "      <td>NaN</td>\n",
       "      <td>NaN</td>\n",
       "      <td>NaN</td>\n",
       "      <td>NaN</td>\n",
       "      <td>NaN</td>\n",
       "      <td>NaN</td>\n",
       "      <td>NaN</td>\n",
       "      <td>20191009</td>\n",
       "      <td>CR</td>\n",
       "      <td>A</td>\n",
       "    </tr>\n",
       "    <tr>\n",
       "      <th>51905</th>\n",
       "      <td>100251665</td>\n",
       "      <td>HANEY</td>\n",
       "      <td>JANICE</td>\n",
       "      <td>M</td>\n",
       "      <td>NaN</td>\n",
       "      <td>1952</td>\n",
       "      <td>21</td>\n",
       "      <td>NaN</td>\n",
       "      <td>IVY RD</td>\n",
       "      <td>NaN</td>\n",
       "      <td>...</td>\n",
       "      <td>NaN</td>\n",
       "      <td>NaN</td>\n",
       "      <td>NaN</td>\n",
       "      <td>NaN</td>\n",
       "      <td>NaN</td>\n",
       "      <td>NaN</td>\n",
       "      <td>NaN</td>\n",
       "      <td>20191009</td>\n",
       "      <td>U</td>\n",
       "      <td>A</td>\n",
       "    </tr>\n",
       "    <tr>\n",
       "      <th>51906</th>\n",
       "      <td>101029340</td>\n",
       "      <td>MARTIN</td>\n",
       "      <td>ELMARIA</td>\n",
       "      <td>D</td>\n",
       "      <td>NaN</td>\n",
       "      <td>1966</td>\n",
       "      <td>2910</td>\n",
       "      <td>NaN</td>\n",
       "      <td>N WEST ST</td>\n",
       "      <td>NaN</td>\n",
       "      <td>...</td>\n",
       "      <td>NaN</td>\n",
       "      <td>NaN</td>\n",
       "      <td>NaN</td>\n",
       "      <td>NaN</td>\n",
       "      <td>NaN</td>\n",
       "      <td>NaN</td>\n",
       "      <td>NaN</td>\n",
       "      <td>20191011</td>\n",
       "      <td>U</td>\n",
       "      <td>A</td>\n",
       "    </tr>\n",
       "    <tr>\n",
       "      <th>51907</th>\n",
       "      <td>101145618</td>\n",
       "      <td>ROSE</td>\n",
       "      <td>KENISHA</td>\n",
       "      <td>A</td>\n",
       "      <td>NaN</td>\n",
       "      <td>1989</td>\n",
       "      <td>1300</td>\n",
       "      <td>#A401</td>\n",
       "      <td>N HARRISON ST</td>\n",
       "      <td>MAYFAIR APTS</td>\n",
       "      <td>...</td>\n",
       "      <td>NaN</td>\n",
       "      <td>NaN</td>\n",
       "      <td>NaN</td>\n",
       "      <td>NaN</td>\n",
       "      <td>NaN</td>\n",
       "      <td>NaN</td>\n",
       "      <td>NaN</td>\n",
       "      <td>20191014</td>\n",
       "      <td>CR</td>\n",
       "      <td>A</td>\n",
       "    </tr>\n",
       "    <tr>\n",
       "      <th>51908</th>\n",
       "      <td>100807909</td>\n",
       "      <td>ALLEN</td>\n",
       "      <td>SARAH</td>\n",
       "      <td>E</td>\n",
       "      <td>NaN</td>\n",
       "      <td>1987</td>\n",
       "      <td>1618</td>\n",
       "      <td>FL #2</td>\n",
       "      <td>N BROOM ST</td>\n",
       "      <td>NaN</td>\n",
       "      <td>...</td>\n",
       "      <td>NaN</td>\n",
       "      <td>NaN</td>\n",
       "      <td>NaN</td>\n",
       "      <td>NaN</td>\n",
       "      <td>NaN</td>\n",
       "      <td>NaN</td>\n",
       "      <td>NaN</td>\n",
       "      <td>20191015</td>\n",
       "      <td>CR</td>\n",
       "      <td>A</td>\n",
       "    </tr>\n",
       "  </tbody>\n",
       "</table>\n",
       "<p>51909 rows × 54 columns</p>\n",
       "</div>"
      ],
      "text/plain": [
       "       UNIQUE-ID     LAST-NAME FIRST-NAME MID-INIT SUFFIX  YEAR-OF-BIRTH  \\\n",
       "0      100234840           ROY    BEVERLY        A    NaN           1952   \n",
       "1      100685572      WILLIAMS       LISA        F    NaN           1968   \n",
       "2      100485262        HARRIS     JOSEPH        A    III           1963   \n",
       "3      100349191       LAMBORN     GERALD        V    NaN           1958   \n",
       "4      100394887  KRYSTOPOLSKI     ANDREW        R    NaN           1981   \n",
       "...          ...           ...        ...      ...    ...            ...   \n",
       "51904  100876849       BROOMER  CHERLOTTE        D    NaN           1974   \n",
       "51905  100251665         HANEY     JANICE        M    NaN           1952   \n",
       "51906  101029340        MARTIN    ELMARIA        D    NaN           1966   \n",
       "51907  101145618          ROSE    KENISHA        A    NaN           1989   \n",
       "51908  100807909         ALLEN      SARAH        E    NaN           1987   \n",
       "\n",
       "      HOME-NO HOME-APT    HOME-STREET            HOME-DEV  ... REF-HIST-5  \\\n",
       "0         320     #912       E 5TH ST  HERLIHY HOUSE APTS  ...        NaN   \n",
       "1         826      NaN       W 5TH ST                 NaN  ...        NaN   \n",
       "2        2616      NaN      W 18TH ST                 NaN  ...        NaN   \n",
       "3         706      NaN      W 34TH ST                 NaN  ...        NaN   \n",
       "4        1009      NaN   ANCHORAGE ST                 NaN  ...        NaN   \n",
       "...       ...      ...            ...                 ...  ...        ...   \n",
       "51904    1340      NaN  LANCASTER AVE                 NaN  ...        NaN   \n",
       "51905      21      NaN         IVY RD                 NaN  ...        NaN   \n",
       "51906    2910      NaN      N WEST ST                 NaN  ...        NaN   \n",
       "51907    1300    #A401  N HARRISON ST        MAYFAIR APTS  ...        NaN   \n",
       "51908    1618    FL #2     N BROOM ST                 NaN  ...        NaN   \n",
       "\n",
       "       MAIL-NO MAIL-APT  MAIL-STR  MAIL-CITY  MAIL-STATE  MAIL-ZIP  \\\n",
       "0          NaN      NaN       NaN        NaN         NaN       NaN   \n",
       "1          NaN      NaN       NaN        NaN         NaN       NaN   \n",
       "2          NaN      NaN       NaN        NaN         NaN       NaN   \n",
       "3          NaN      NaN       NaN        NaN         NaN       NaN   \n",
       "4          NaN      NaN       NaN        NaN         NaN       NaN   \n",
       "...        ...      ...       ...        ...         ...       ...   \n",
       "51904      NaN      NaN       NaN        NaN         NaN       NaN   \n",
       "51905      NaN      NaN       NaN        NaN         NaN       NaN   \n",
       "51906      NaN      NaN       NaN        NaN         NaN       NaN   \n",
       "51907      NaN      NaN       NaN        NaN         NaN       NaN   \n",
       "51908      NaN      NaN       NaN        NaN         NaN       NaN   \n",
       "\n",
       "       DATE-LAST-CHG CODE-CHANGE STATUS  \n",
       "0           20180715          CR      A  \n",
       "1           20180715          CR      A  \n",
       "2           20180715          CR      A  \n",
       "3           20190805          CR      A  \n",
       "4           20180715          CR      A  \n",
       "...              ...         ...    ...  \n",
       "51904       20191009          CR      A  \n",
       "51905       20191009           U      A  \n",
       "51906       20191011           U      A  \n",
       "51907       20191014          CR      A  \n",
       "51908       20191015          CR      A  \n",
       "\n",
       "[51909 rows x 54 columns]"
      ]
     },
     "execution_count": 6,
     "metadata": {},
     "output_type": "execute_result"
    }
   ],
   "source": [
    "# \n",
    "df"
   ]
  },
  {
   "cell_type": "markdown",
   "metadata": {},
   "source": [
    "What is the shape of this DataFrame? How many columns does each row have? How many rows are there?"
   ]
  },
  {
   "cell_type": "code",
   "execution_count": 7,
   "metadata": {},
   "outputs": [
    {
     "name": "stdout",
     "output_type": "stream",
     "text": [
      "there are 51909 rows\n",
      "there are 54 columns\n"
     ]
    }
   ],
   "source": [
    "# \n",
    "print(f'there are {df.shape[0]} rows')\n",
    "print(f'there are {df.columns.shape[0]} columns')\n",
    "\n",
    "\n",
    "\n"
   ]
  },
  {
   "cell_type": "markdown",
   "metadata": {},
   "source": [
    "# HOME ZIP CODE"
   ]
  },
  {
   "cell_type": "markdown",
   "metadata": {},
   "source": [
    "Group objects using the HOME-ZIPCODE column. Assign the value to a variable called grouped_zc.  \n",
    "[Pandas Groupby User Guide](https://pandas.pydata.org/pandas-docs/stable/user_guide/groupby.html)"
   ]
  },
  {
   "cell_type": "code",
   "execution_count": 8,
   "metadata": {},
   "outputs": [],
   "source": [
    "# \n",
    "grouped_zc = df.groupby('HOME-ZIPCODE')"
   ]
  },
  {
   "cell_type": "markdown",
   "metadata": {},
   "source": [
    "What type of object is grouped_zc?"
   ]
  },
  {
   "cell_type": "code",
   "execution_count": 9,
   "metadata": {},
   "outputs": [
    {
     "data": {
      "text/plain": [
       "pandas.core.groupby.generic.DataFrameGroupBy"
      ]
     },
     "execution_count": 9,
     "metadata": {},
     "output_type": "execute_result"
    }
   ],
   "source": [
    "#\n",
    "type(grouped_zc)"
   ]
  },
  {
   "cell_type": "markdown",
   "metadata": {},
   "source": [
    "DataFrameGroupBy objects contain a groups attribute. Display the value of the groups attribute belonging to the grouped_zc object."
   ]
  },
  {
   "cell_type": "code",
   "execution_count": 10,
   "metadata": {},
   "outputs": [
    {
     "data": {
      "text/plain": [
       "{19801: [0, 1, 10, 12, 13, 15, 16, 20, 24, 34, 55, 56, 57, 58, 62, 64, 65, 67, 79, 92, 94, 95, 98, 102, 103, 110, 118, 120, 121, 129, 131, 136, 146, 149, 151, 157, 158, 173, 174, 180, 184, 188, 194, 197, 198, 202, 203, 210, 211, 215, 222, 223, 228, 229, 233, 241, 242, 263, 278, 281, 282, 284, 285, 286, 287, 288, 291, 292, 293, 294, 300, 301, 302, 310, 311, 312, 316, 317, 321, 322, 323, 324, 327, 333, 334, 336, 337, 339, 340, 343, 344, 345, 346, 347, 348, 349, 354, 357, 365, 372, ...], 19802: [3, 5, 11, 21, 29, 30, 31, 38, 39, 40, 45, 46, 51, 52, 53, 54, 59, 60, 61, 68, 69, 70, 76, 77, 78, 80, 84, 85, 88, 89, 91, 97, 99, 100, 101, 108, 109, 116, 122, 123, 124, 125, 130, 134, 135, 138, 139, 140, 143, 144, 145, 148, 154, 155, 156, 160, 162, 163, 172, 181, 186, 187, 195, 196, 200, 201, 205, 206, 207, 208, 213, 214, 220, 225, 226, 239, 240, 243, 245, 246, 250, 251, 252, 265, 270, 273, 275, 276, 277, 290, 299, 307, 308, 309, 313, 314, 315, 318, 319, 320, ...], 19805: [4, 6, 7, 8, 14, 17, 18, 19, 22, 23, 25, 26, 27, 32, 33, 35, 36, 37, 41, 42, 43, 44, 47, 49, 50, 63, 66, 71, 72, 73, 74, 75, 81, 82, 86, 87, 90, 93, 104, 105, 107, 111, 112, 113, 115, 117, 119, 126, 127, 128, 132, 133, 137, 141, 142, 147, 152, 153, 159, 161, 164, 165, 166, 167, 168, 175, 176, 177, 178, 179, 182, 183, 185, 189, 190, 191, 192, 199, 209, 212, 216, 217, 218, 221, 227, 230, 231, 232, 234, 235, 236, 237, 244, 247, 248, 249, 253, 254, 255, 256, ...], 19806: [2, 9, 28, 48, 83, 96, 106, 114, 150, 169, 170, 171, 193, 204, 219, 224, 238, 257, 296, 297, 367, 393, 429, 431, 449, 513, 533, 552, 553, 589, 591, 598, 609, 615, 616, 623, 633, 634, 644, 661, 664, 665, 684, 690, 691, 698, 703, 724, 725, 728, 731, 733, 735, 751, 765, 766, 767, 945, 946, 1135, 1170, 1246, 1255, 1322, 1332, 1464, 1491, 1528, 1615, 1616, 1670, 1734, 1759, 1785, 1893, 1894, 1898, 1943, 2053, 2089, 2127, 2129, 2154, 2204, 2294, 2377, 2403, 2518, 2888, 3597, 3731, 3808, 3878, 3879, 3880, 3903, 3904, 3905, 3906, 3907, ...], 19807: [576, 3900, 3901, 3902, 3977, 4595, 5504, 5542, 7186, 7780, 7925, 8051, 9726, 9797, 10091, 10664, 10726, 11217, 11468, 11470, 11695, 11742, 11964, 12656, 12657, 12684, 12855, 16968, 16999, 17542, 17554, 17726, 17728, 17733, 17734, 17797, 17812, 17821, 17839, 18603, 19152, 19643, 20184, 22132, 22278, 25263, 25267, 25269, 36424, 36425, 36434, 36474, 36475, 36537, 36538, 36544, 36546, 36574, 36614, 36615, 36616, 36623, 36631, 36632, 36633, 39112, 39113, 39115, 39136, 39137, 39142, 39143, 39150, 39159, 39171, 39172, 39175, 39179, 39185, 39186, 39191, 39196, 39199, 39202, 39209, 39224, 39225, 39228, 39230, 39236, 39239, 39242, 39247, 39248, 39251, 39254, 39259, 39260, 39261, 39265, ...]}"
      ]
     },
     "execution_count": 10,
     "metadata": {},
     "output_type": "execute_result"
    }
   ],
   "source": [
    "# \n",
    "grouped_zc.groups"
   ]
  },
  {
   "cell_type": "markdown",
   "metadata": {},
   "source": [
    "Invoke the size method on the grouped_zc object to find out how many items are associated with each zip code."
   ]
  },
  {
   "cell_type": "code",
   "execution_count": 11,
   "metadata": {},
   "outputs": [
    {
     "data": {
      "text/plain": [
       "HOME-ZIPCODE\n",
       "19801    10730\n",
       "19802    17182\n",
       "19805    15548\n",
       "19806     8326\n",
       "19807      123\n",
       "dtype: int64"
      ]
     },
     "execution_count": 11,
     "metadata": {},
     "output_type": "execute_result"
    }
   ],
   "source": [
    "#\n",
    "zip_ser = grouped_zc.size()\n",
    "zip_ser"
   ]
  },
  {
   "cell_type": "markdown",
   "metadata": {},
   "source": [
    "Use a magic command so that matplotlib graphics will display inline."
   ]
  },
  {
   "cell_type": "code",
   "execution_count": 12,
   "metadata": {},
   "outputs": [],
   "source": [
    "#\n",
    "%matplotlib inline"
   ]
  },
  {
   "cell_type": "markdown",
   "metadata": {},
   "source": [
    "Create a pie chart illustrating the number of voters per zip code."
   ]
  },
  {
   "cell_type": "code",
   "execution_count": 13,
   "metadata": {},
   "outputs": [
    {
     "data": {
      "text/plain": [
       "<Axes: >"
      ]
     },
     "execution_count": 13,
     "metadata": {},
     "output_type": "execute_result"
    },
    {
     "data": {
      "image/png": "[encoded data removed]",
      "text/plain": [
       "<Figure size 500x500 with 1 Axes>"
      ]
     },
     "metadata": {},
     "output_type": "display_data"
    }
   ],
   "source": [
    "# \n",
    "zip_ser.plot.pie(figsize=(5,5))"
   ]
  },
  {
   "cell_type": "markdown",
   "metadata": {},
   "source": [
    "# YEAR OF BIRTH"
   ]
  },
  {
   "cell_type": "markdown",
   "metadata": {},
   "source": [
    "Group objects by the YEAR-OF-BIRTH column. Assign the value to an object called \"grouped_yob\"."
   ]
  },
  {
   "cell_type": "code",
   "execution_count": 14,
   "metadata": {},
   "outputs": [],
   "source": [
    "# \n",
    "grouped_yob = df.groupby('YEAR-OF-BIRTH')"
   ]
  },
  {
   "cell_type": "markdown",
   "metadata": {},
   "source": [
    "Display the value of the groups attribute belonging the grouped_yob object."
   ]
  },
  {
   "cell_type": "code",
   "execution_count": 15,
   "metadata": {},
   "outputs": [
    {
     "data": {
      "text/plain": [
       "90"
      ]
     },
     "execution_count": 15,
     "metadata": {},
     "output_type": "execute_result"
    }
   ],
   "source": [
    "#\n",
    "grouped_yob.ngroups"
   ]
  },
  {
   "cell_type": "markdown",
   "metadata": {},
   "source": [
    "Select the object for the row indicating that the voter was born in 1900."
   ]
  },
  {
   "cell_type": "code",
   "execution_count": 16,
   "metadata": {},
   "outputs": [
    {
     "data": {
      "text/html": [
       "<div>\n",
       "<style scoped>\n",
       "    .dataframe tbody tr th:only-of-type {\n",
       "        vertical-align: middle;\n",
       "    }\n",
       "\n",
       "    .dataframe tbody tr th {\n",
       "        vertical-align: top;\n",
       "    }\n",
       "\n",
       "    .dataframe thead th {\n",
       "        text-align: right;\n",
       "    }\n",
       "</style>\n",
       "<table border=\"1\" class=\"dataframe\">\n",
       "  <thead>\n",
       "    <tr style=\"text-align: right;\">\n",
       "      <th></th>\n",
       "      <th>UNIQUE-ID</th>\n",
       "      <th>LAST-NAME</th>\n",
       "      <th>FIRST-NAME</th>\n",
       "      <th>MID-INIT</th>\n",
       "      <th>SUFFIX</th>\n",
       "      <th>YEAR-OF-BIRTH</th>\n",
       "      <th>HOME-NO</th>\n",
       "      <th>HOME-APT</th>\n",
       "      <th>HOME-STREET</th>\n",
       "      <th>HOME-DEV</th>\n",
       "      <th>...</th>\n",
       "      <th>REF-HIST-5</th>\n",
       "      <th>MAIL-NO</th>\n",
       "      <th>MAIL-APT</th>\n",
       "      <th>MAIL-STR</th>\n",
       "      <th>MAIL-CITY</th>\n",
       "      <th>MAIL-STATE</th>\n",
       "      <th>MAIL-ZIP</th>\n",
       "      <th>DATE-LAST-CHG</th>\n",
       "      <th>CODE-CHANGE</th>\n",
       "      <th>STATUS</th>\n",
       "    </tr>\n",
       "  </thead>\n",
       "  <tbody>\n",
       "    <tr>\n",
       "      <th>49249</th>\n",
       "      <td>101092654</td>\n",
       "      <td>KENNEDY</td>\n",
       "      <td>JORDAN</td>\n",
       "      <td>D</td>\n",
       "      <td>NaN</td>\n",
       "      <td>1900</td>\n",
       "      <td>724</td>\n",
       "      <td>NaN</td>\n",
       "      <td>N BANCROFT PKY</td>\n",
       "      <td>NaN</td>\n",
       "      <td>...</td>\n",
       "      <td>NaN</td>\n",
       "      <td>NaN</td>\n",
       "      <td>NaN</td>\n",
       "      <td>NaN</td>\n",
       "      <td>NaN</td>\n",
       "      <td>NaN</td>\n",
       "      <td>NaN</td>\n",
       "      <td>20170731</td>\n",
       "      <td>P6</td>\n",
       "      <td>I</td>\n",
       "    </tr>\n",
       "  </tbody>\n",
       "</table>\n",
       "<p>1 rows × 54 columns</p>\n",
       "</div>"
      ],
      "text/plain": [
       "       UNIQUE-ID LAST-NAME FIRST-NAME MID-INIT SUFFIX  YEAR-OF-BIRTH HOME-NO  \\\n",
       "49249  101092654   KENNEDY     JORDAN        D    NaN           1900     724   \n",
       "\n",
       "      HOME-APT     HOME-STREET HOME-DEV  ... REF-HIST-5  MAIL-NO MAIL-APT  \\\n",
       "49249      NaN  N BANCROFT PKY      NaN  ...        NaN      NaN      NaN   \n",
       "\n",
       "       MAIL-STR  MAIL-CITY  MAIL-STATE  MAIL-ZIP  DATE-LAST-CHG CODE-CHANGE  \\\n",
       "49249       NaN        NaN         NaN       NaN       20170731          P6   \n",
       "\n",
       "      STATUS  \n",
       "49249      I  \n",
       "\n",
       "[1 rows x 54 columns]"
      ]
     },
     "execution_count": 16,
     "metadata": {},
     "output_type": "execute_result"
    }
   ],
   "source": [
    "# \n",
    "grouped_yob.get_group(1900)\n"
   ]
  },
  {
   "cell_type": "code",
   "execution_count": 17,
   "metadata": {},
   "outputs": [
    {
     "data": {
      "text/plain": [
       "YEAR-OF-BIRTH\n",
       "1900      1\n",
       "1912      1\n",
       "1915      2\n",
       "1916      3\n",
       "1917      2\n",
       "       ... \n",
       "1998    786\n",
       "1999    719\n",
       "2000    717\n",
       "2001    575\n",
       "2002    395\n",
       "Length: 90, dtype: int64"
      ]
     },
     "execution_count": 17,
     "metadata": {},
     "output_type": "execute_result"
    }
   ],
   "source": [
    "yob_ser = grouped_yob.size()\n",
    "yob_ser"
   ]
  },
  {
   "cell_type": "markdown",
   "metadata": {},
   "source": [
    "Graph a histogram to  illustrate the age distribution of voters in this dataset. Ty using different values for the bins attribute of the histogram. "
   ]
  },
  {
   "cell_type": "code",
   "execution_count": 18,
   "metadata": {},
   "outputs": [
    {
     "data": {
      "text/plain": [
       "<Axes: ylabel='Frequency'>"
      ]
     },
     "execution_count": 18,
     "metadata": {},
     "output_type": "execute_result"
    },
    {
     "data": {
      "image/png": "[encoded data removed]",
      "text/plain": [
       "<Figure size 640x480 with 1 Axes>"
      ]
     },
     "metadata": {},
     "output_type": "display_data"
    }
   ],
   "source": [
    "# \n",
    "yob_ser[50:90].plot.hist()"
   ]
  },
  {
   "cell_type": "markdown",
   "metadata": {},
   "source": [
    "# PARTY"
   ]
  },
  {
   "cell_type": "markdown",
   "metadata": {},
   "source": [
    "Group objects using the PARTY column. Assign the value to a variable called grouped_p."
   ]
  },
  {
   "cell_type": "code",
   "execution_count": 19,
   "metadata": {},
   "outputs": [
    {
     "data": {
      "text/plain": [
       "<pandas.core.groupby.generic.DataFrameGroupBy object at 0x137a21760>"
      ]
     },
     "execution_count": 19,
     "metadata": {},
     "output_type": "execute_result"
    }
   ],
   "source": [
    "# \n",
    "grouped_p = df.groupby('PARTY')\n",
    "grouped_p"
   ]
  },
  {
   "cell_type": "markdown",
   "metadata": {},
   "source": [
    "Display the value of the groups attribute belonging to the grouped_p object."
   ]
  },
  {
   "cell_type": "code",
   "execution_count": 20,
   "metadata": {},
   "outputs": [
    {
     "data": {
      "text/plain": [
       "{'A': [2578, 2639, 3108, 5105, 10230, 10491, 10842, 11620, 12162, 12413, 12417, 12454, 12507, 12522, 12810, 12831, 14469, 14507, 15144, 15382, 15509, 16858, 17075, 17173, 17309, 19466, 19884, 20846, 21086, 21459, 22451, 22645, 22746, 23739, 24604, 24664, 24665, 24691, 26662, 28775, 30455, 30510, 30976, 34065, 34903, 36518, 44984, 45851, 46837, 49699, 51736, 51830], 'B': [11866, 11867, 11869, 11870, 11873, 11875, 11876, 11880, 11882, 11883, 11884, 11885, 11886, 11887, 11888, 11889, 11890, 11891, 11892, 11893, 11895, 11896, 11898, 11899, 11900, 11901, 11902, 11903, 11904, 11905, 11906, 11908, 11909, 11910, 11911, 11913, 11914, 11915, 11916, 11917, 11918, 11920, 11924, 11925, 11926, 11927, 11929, 11930, 11932, 11933, 11934, 11940, 11941, 11942, 11951, 11952, 11953, 11956, 11958, 11960, 11961, 11965, 11966, 11968, 11971, 11973, 11974, 11977, 11980, 11981, 11982, 11984, 11987, 11988, 11990, 11991, 11992, 11994, 11999, 12001, 12002, 12003, 12004, 12006, 12008, 12009, 12012, 12014, 12015, 12017, 12021, 12023, 12025, 12028, 12030, 12033, 12037, 12038, 12041, 12043, ...], 'D': [1, 3, 4, 5, 6, 10, 11, 12, 16, 17, 19, 20, 21, 22, 23, 24, 27, 29, 32, 33, 35, 42, 44, 46, 48, 49, 52, 53, 54, 56, 57, 58, 59, 61, 64, 68, 69, 70, 71, 73, 76, 77, 79, 81, 82, 84, 85, 88, 89, 90, 91, 92, 98, 99, 101, 102, 103, 104, 105, 106, 107, 108, 109, 113, 114, 115, 116, 117, 118, 120, 121, 122, 123, 124, 125, 126, 132, 133, 134, 136, 138, 139, 140, 141, 142, 143, 144, 146, 148, 149, 153, 154, 155, 156, 158, 160, 162, 163, 164, 165, ...], 'E': [346, 4768, 4980, 5216, 7651, 8165, 9912, 10745, 11241, 18359, 19693, 19871, 20848, 23562, 25301, 25880, 28786, 32452, 32612, 33925, 36659, 36936, 38262, 40198, 46582, 47321, 49618, 50330, 51613, 51828], 'G': [4868, 7001, 9420, 12620, 16999, 17956, 20719, 22322, 22435, 22692, 25423, 26657, 28772, 31156, 31402, 32840, 34850, 34874, 34924, 37189, 37259, 38140, 40614, 40870, 40894, 41264, 42067, 42203, 42367, 42627, 42721, 42724, 44717, 45014, 45254, 45564, 46574, 47761, 47816, 49280, 49782, 50723], 'H': [51, 1218, 1332, 3885, 4825, 5175, 6112, 6970, 8491, 9899, 10138, 10651, 11316, 11781, 11822, 11850, 11894, 11897, 11907, 11993, 12036, 12086, 12113, 12569, 13189, 13715, 14162, 14372, 15190, 15297, 15441, 16208, 16268, 16310, 17932, 18349, 18562, 18822, 19450, 20370, 21234, 21518, 22168, 22317, 22399, 22519, 22631, 23177, 23697, 25410, 25648, 27054, 27913, 29533, 29624, 29691, 33573, 33694, 33752, 36705, 37587, 38442, 38605, 38783, 39129, 39130, 39408, 40202, 42170, 43346, 48875, 49171, 49424, 49629, 49837, 49867, 49900, 49967, 50866, 51040, 51196, 51312], 'I': [0, 7, 9, 14, 15, 26, 28, 30, 31, 37, 39, 40, 41, 43, 47, 50, 55, 62, 63, 65, 66, 67, 72, 74, 75, 78, 83, 86, 87, 93, 94, 95, 96, 97, 112, 119, 127, 128, 129, 131, 135, 137, 145, 147, 150, 151, 152, 157, 161, 174, 175, 176, 178, 182, 183, 185, 187, 188, 189, 193, 198, 203, 207, 212, 224, 227, 238, 247, 249, 252, 253, 256, 259, 262, 263, 272, 279, 283, 285, 286, 287, 291, 294, 295, 300, 301, 303, 307, 310, 312, 315, 319, 327, 330, 337, 338, 345, 348, 354, 362, ...], 'J': [197, 988, 1057, 1111, 1177, 1203, 1321, 1422, 1457, 1493, 1511, 1607, 1627, 1651, 1691, 1730, 1734, 1778, 2259, 2412, 2441, 2483, 2606, 2718, 2813, 3070, 3084, 3139, 3140, 3149, 3253, 3286, 3617, 3683, 3713, 3739, 4218, 4335, 4598, 4821, 5059, 5302, 5376, 5379, 5394, 5395, 5588, 6003, 6474, 6601, 6851, 6894, 6924, 6977, 7021, 7590, 7734, 8362, 9568, 9636, 10218, 10305, 10401, 11036, 11137, 12372, 12410, 13022, 13195, 13402, 13444, 13462, 13986, 14166, 14722, 14829, 14844, 14896, 15579, 16023, 16147, 16351, 16394, 16420, 16517, 17147, 17256, 17393, 19453, 19611, 20520, 20603, 20794, 21008, 21017, 21377, 21721, 22204, 22224, 22225, ...], 'L': [1157, 1232, 2320, 2654, 4048, 4088, 4475, 4587, 5258, 6701, 7197, 7277, 7331, 9063, 9266, 9452, 9785, 10870, 11035, 11091, 11709, 12016, 12019, 12076, 12603, 13161, 13166, 15164, 16994, 17186, 17415, 17969, 18401, 18499, 19539, 19596, 19722, 20340, 20748, 20783, 21441, 22534, 23051, 23458, 23741, 24172, 26616, 28185, 28907, 28908, 29029, 31081, 31122, 31451, 33122, 33326, 33571, 34868, 35953, 36616, 37354, 38083, 38485, 38538, 39651, 39703, 39757, 39983, 41323, 41435, 42556, 42997, 43620, 43739, 43993, 44877, 44963, 45010, 45460, 45477, 45499, 45866, 45964, 46251, 46779, 47745, 47817, 47892, 48816, 49272, 49595, 49736, 49792, 49807, 50178, 51570, 51601, 51829], 'M': [19128], 'O': [60, 321, 1086, 1631, 1743, 3426, 3863, 6030, 7798, 9304, 11959, 12143, 12901, 13046, 13344, 16985, 19607, 22474, 25901, 26947, 31469, 32243, 33930, 34644, 35459, 35919, 38177, 39573, 41553, 48281, 49440, 49946, 50693], 'Q': [1754, 2100, 2186, 2268, 6903, 7723, 8701, 9631, 9722, 12860, 13249, 14833, 22175, 22248, 22382, 45539, 51790], 'R': [2, 8, 13, 18, 25, 34, 36, 38, 45, 80, 100, 110, 111, 130, 159, 168, 194, 199, 200, 215, 218, 220, 223, 230, 242, 243, 245, 248, 255, 261, 280, 296, 297, 298, 302, 306, 311, 314, 318, 320, 323, 326, 342, 349, 357, 358, 371, 372, 380, 390, 393, 402, 403, 406, 408, 417, 418, 422, 431, 433, 435, 438, 443, 446, 448, 453, 456, 463, 464, 472, 474, 486, 492, 497, 512, 533, 535, 538, 542, 546, 552, 572, 575, 584, 588, 589, 596, 602, 607, 613, 643, 644, 647, 662, 670, 690, 704, 713, 723, 735, ...], 'T': [3200, 16195, 18075, 18799, 22522, 22532, 29766, 40839, 43506, 44165, 46817, 47328, 48734, 50254], 'V': [630, 924, 4198, 4565, 10571, 11786, 15825, 35313, 39086, 39138, 48731], 'W': [970, 1109, 1291, 1601, 1891, 1992, 2565, 2577, 3003, 3081, 3153, 3237, 3473, 3987, 4003, 4151, 4203, 4217, 4232, 4347, 4447, 4488, 4669, 4757, 4848, 4999, 5001, 5255, 5562, 5644, 5919, 5970, 6141, 6332, 6504, 6518, 6725, 6778, 6840, 7083, 7389, 7434, 7627, 8075, 8283, 8368, 8802, 8862, 9292, 9296, 9350, 9712, 9804, 9808, 10234, 10412, 10454, 10507, 10626, 10706, 10769, 10771, 10963, 11280, 11331, 11462, 11557, 11748, 11877, 11923, 12067, 12169, 12269, 12300, 12398, 12447, 12458, 12828, 12882, 12923, 13272, 13347, 13452, 13828, 13846, 13960, 14416, 14417, 14849, 15009, 15016, 15649, 15792, 16169, 16289, 16771, 17271, 17363, 17554, 17594, ...], 'Y': [4214, 4523, 7697, 15109, 17347, 17730, 20621, 22247, 36423, 36558, 37972, 39522, 41694, 42009], 'Z': [2543, 3173, 3808, 3859, 4396, 4427, 5196, 6212, 6771, 7214, 9171, 9587, 10835, 11789, 14983, 16487, 17079, 17305, 18066, 20592, 20703, 21712, 22172, 22190, 22192, 22193, 22194, 27240, 28166, 28219, 32778, 32790, 34659, 34940, 35094, 46002, 48316, 49053, 49817]}"
      ]
     },
     "execution_count": 20,
     "metadata": {},
     "output_type": "execute_result"
    }
   ],
   "source": [
    "# \n",
    "grouped_p.groups"
   ]
  },
  {
   "cell_type": "markdown",
   "metadata": {},
   "source": [
    "Invoke the size method on the grouped_p object to find out how many items are associated with each party."
   ]
  },
  {
   "cell_type": "code",
   "execution_count": 21,
   "metadata": {
    "scrolled": true
   },
   "outputs": [
    {
     "data": {
      "text/plain": [
       "PARTY\n",
       "A       52\n",
       "B      441\n",
       "D    38020\n",
       "E       30\n",
       "G       42\n",
       "H       82\n",
       "I     7670\n",
       "J      161\n",
       "L       98\n",
       "M        1\n",
       "O       33\n",
       "Q       17\n",
       "R     4851\n",
       "T       14\n",
       "V       11\n",
       "W      333\n",
       "Y       14\n",
       "Z       39\n",
       "dtype: int64"
      ]
     },
     "execution_count": 21,
     "metadata": {},
     "output_type": "execute_result"
    }
   ],
   "source": [
    "# \n",
    "p_ser = grouped_p.size()\n",
    "p_ser"
   ]
  },
  {
   "cell_type": "markdown",
   "metadata": {},
   "source": [
    "Create a bar chart to visualize the number of voters associated with each party."
   ]
  },
  {
   "cell_type": "code",
   "execution_count": 22,
   "metadata": {},
   "outputs": [
    {
     "data": {
      "image/png": "[encoded data removed]",
      "text/plain": [
       "<Figure size 640x480 with 1 Axes>"
      ]
     },
     "metadata": {},
     "output_type": "display_data"
    }
   ],
   "source": [
    "# \n",
    "ax = p_ser.plot.bar()"
   ]
  },
  {
   "cell_type": "markdown",
   "metadata": {},
   "source": [
    "# Merging Two DataFrames"
   ]
  },
  {
   "cell_type": "markdown",
   "metadata": {},
   "source": [
    "Using the data from the documentation, create a Pandas DataFrame that contains the party code and the corresponding legal name for each party."
   ]
  },
  {
   "cell_type": "code",
   "execution_count": 23,
   "metadata": {},
   "outputs": [
    {
     "data": {
      "text/plain": [
       "Index(['UNIQUE-ID', 'LAST-NAME', 'FIRST-NAME', 'MID-INIT', 'SUFFIX',\n",
       "       'YEAR-OF-BIRTH', 'HOME-NO', 'HOME-APT', 'HOME-STREET', 'HOME-DEV',\n",
       "       'HOME-CITY', 'HOME-ZIPCODE', 'COUNTY', 'ED', 'RD', 'SD', 'CNLEVY',\n",
       "       'WILM', 'CODE-HOME-CITY', 'SCH-DIST', 'PARTY', 'DATE-REG', 'PP-HIST-1',\n",
       "       'PP-HIST-2', 'PR-HIST-1', 'PR-HIST-2', 'PR-HIST-3', 'GEN-HIST-1',\n",
       "       'GEN-HIST-2', 'GEN-HIST-3', 'GEN-HIST-4', 'GEN-HIST-5', 'SP-HIST-1',\n",
       "       'SP-HIST-2', 'SP-HIST-3', 'SCHL-HIST-1', 'SCHL-HIST-2', 'SCHL-HIST-3',\n",
       "       'SCHL-HIST-4', 'SCHL-HIST-5', 'REF-HIST-1', 'REF-HIST-2', 'REF-HIST-3',\n",
       "       'REF-HIST-4', 'REF-HIST-5', 'MAIL-NO', 'MAIL-APT', 'MAIL-STR',\n",
       "       'MAIL-CITY', 'MAIL-STATE', 'MAIL-ZIP', 'DATE-LAST-CHG', 'CODE-CHANGE',\n",
       "       'STATUS'],\n",
       "      dtype='object')"
      ]
     },
     "execution_count": 23,
     "metadata": {},
     "output_type": "execute_result"
    }
   ],
   "source": [
    "df.columns"
   ]
  },
  {
   "cell_type": "code",
   "execution_count": 24,
   "metadata": {},
   "outputs": [],
   "source": [
    "legal_names = {'FIRST-NAME':df['FIRST-NAME'][:],\n",
    "               'LAST-NAME':df['LAST-NAME'][:],\n",
    "               'MID-INIT':df['MID-INIT'][:],\n",
    "               'SUFFIX':df['SUFFIX'][:],\n",
    "               'PARTY':df['PARTY'][:]               \n",
    "              }\n"
   ]
  },
  {
   "cell_type": "code",
   "execution_count": null,
   "metadata": {},
   "outputs": [],
   "source": []
  },
  {
   "cell_type": "code",
   "execution_count": 25,
   "metadata": {},
   "outputs": [],
   "source": [
    "df_legal_names = pd.DataFrame(legal_names)\n"
   ]
  },
  {
   "cell_type": "code",
   "execution_count": 26,
   "metadata": {},
   "outputs": [
    {
     "data": {
      "text/html": [
       "<div>\n",
       "<style scoped>\n",
       "    .dataframe tbody tr th:only-of-type {\n",
       "        vertical-align: middle;\n",
       "    }\n",
       "\n",
       "    .dataframe tbody tr th {\n",
       "        vertical-align: top;\n",
       "    }\n",
       "\n",
       "    .dataframe thead th {\n",
       "        text-align: right;\n",
       "    }\n",
       "</style>\n",
       "<table border=\"1\" class=\"dataframe\">\n",
       "  <thead>\n",
       "    <tr style=\"text-align: right;\">\n",
       "      <th></th>\n",
       "      <th>FIRST-NAME</th>\n",
       "      <th>LAST-NAME</th>\n",
       "      <th>MID-INIT</th>\n",
       "      <th>SUFFIX</th>\n",
       "      <th>PARTY</th>\n",
       "    </tr>\n",
       "  </thead>\n",
       "  <tbody>\n",
       "    <tr>\n",
       "      <th>0</th>\n",
       "      <td>BEVERLY</td>\n",
       "      <td>ROY</td>\n",
       "      <td>A</td>\n",
       "      <td>NaN</td>\n",
       "      <td>I</td>\n",
       "    </tr>\n",
       "    <tr>\n",
       "      <th>1</th>\n",
       "      <td>LISA</td>\n",
       "      <td>WILLIAMS</td>\n",
       "      <td>F</td>\n",
       "      <td>NaN</td>\n",
       "      <td>D</td>\n",
       "    </tr>\n",
       "    <tr>\n",
       "      <th>2</th>\n",
       "      <td>JOSEPH</td>\n",
       "      <td>HARRIS</td>\n",
       "      <td>A</td>\n",
       "      <td>III</td>\n",
       "      <td>R</td>\n",
       "    </tr>\n",
       "    <tr>\n",
       "      <th>3</th>\n",
       "      <td>GERALD</td>\n",
       "      <td>LAMBORN</td>\n",
       "      <td>V</td>\n",
       "      <td>NaN</td>\n",
       "      <td>D</td>\n",
       "    </tr>\n",
       "    <tr>\n",
       "      <th>4</th>\n",
       "      <td>ANDREW</td>\n",
       "      <td>KRYSTOPOLSKI</td>\n",
       "      <td>R</td>\n",
       "      <td>NaN</td>\n",
       "      <td>D</td>\n",
       "    </tr>\n",
       "    <tr>\n",
       "      <th>...</th>\n",
       "      <td>...</td>\n",
       "      <td>...</td>\n",
       "      <td>...</td>\n",
       "      <td>...</td>\n",
       "      <td>...</td>\n",
       "    </tr>\n",
       "    <tr>\n",
       "      <th>51904</th>\n",
       "      <td>CHERLOTTE</td>\n",
       "      <td>BROOMER</td>\n",
       "      <td>D</td>\n",
       "      <td>NaN</td>\n",
       "      <td>D</td>\n",
       "    </tr>\n",
       "    <tr>\n",
       "      <th>51905</th>\n",
       "      <td>JANICE</td>\n",
       "      <td>HANEY</td>\n",
       "      <td>M</td>\n",
       "      <td>NaN</td>\n",
       "      <td>D</td>\n",
       "    </tr>\n",
       "    <tr>\n",
       "      <th>51906</th>\n",
       "      <td>ELMARIA</td>\n",
       "      <td>MARTIN</td>\n",
       "      <td>D</td>\n",
       "      <td>NaN</td>\n",
       "      <td>D</td>\n",
       "    </tr>\n",
       "    <tr>\n",
       "      <th>51907</th>\n",
       "      <td>KENISHA</td>\n",
       "      <td>ROSE</td>\n",
       "      <td>A</td>\n",
       "      <td>NaN</td>\n",
       "      <td>D</td>\n",
       "    </tr>\n",
       "    <tr>\n",
       "      <th>51908</th>\n",
       "      <td>SARAH</td>\n",
       "      <td>ALLEN</td>\n",
       "      <td>E</td>\n",
       "      <td>NaN</td>\n",
       "      <td>I</td>\n",
       "    </tr>\n",
       "  </tbody>\n",
       "</table>\n",
       "<p>51909 rows × 5 columns</p>\n",
       "</div>"
      ],
      "text/plain": [
       "      FIRST-NAME     LAST-NAME MID-INIT SUFFIX PARTY\n",
       "0        BEVERLY           ROY        A    NaN     I\n",
       "1           LISA      WILLIAMS        F    NaN     D\n",
       "2         JOSEPH        HARRIS        A    III     R\n",
       "3         GERALD       LAMBORN        V    NaN     D\n",
       "4         ANDREW  KRYSTOPOLSKI        R    NaN     D\n",
       "...          ...           ...      ...    ...   ...\n",
       "51904  CHERLOTTE       BROOMER        D    NaN     D\n",
       "51905     JANICE         HANEY        M    NaN     D\n",
       "51906    ELMARIA        MARTIN        D    NaN     D\n",
       "51907    KENISHA          ROSE        A    NaN     D\n",
       "51908      SARAH         ALLEN        E    NaN     I\n",
       "\n",
       "[51909 rows x 5 columns]"
      ]
     },
     "execution_count": 26,
     "metadata": {},
     "output_type": "execute_result"
    }
   ],
   "source": [
    "df_legal_names"
   ]
  },
  {
   "cell_type": "markdown",
   "metadata": {},
   "source": [
    "Create a Pandas DataFrame that contains the Party code and the corresponding number of registered voters for said party."
   ]
  },
  {
   "cell_type": "code",
   "execution_count": 27,
   "metadata": {},
   "outputs": [],
   "source": [
    "# Create DataFrame df_party_counts here \n",
    "df_party_counts = pd.DataFrame(grouped_p.size())"
   ]
  },
  {
   "cell_type": "code",
   "execution_count": 28,
   "metadata": {},
   "outputs": [
    {
     "data": {
      "text/html": [
       "<div>\n",
       "<style scoped>\n",
       "    .dataframe tbody tr th:only-of-type {\n",
       "        vertical-align: middle;\n",
       "    }\n",
       "\n",
       "    .dataframe tbody tr th {\n",
       "        vertical-align: top;\n",
       "    }\n",
       "\n",
       "    .dataframe thead th {\n",
       "        text-align: right;\n",
       "    }\n",
       "</style>\n",
       "<table border=\"1\" class=\"dataframe\">\n",
       "  <thead>\n",
       "    <tr style=\"text-align: right;\">\n",
       "      <th></th>\n",
       "      <th>0</th>\n",
       "    </tr>\n",
       "    <tr>\n",
       "      <th>PARTY</th>\n",
       "      <th></th>\n",
       "    </tr>\n",
       "  </thead>\n",
       "  <tbody>\n",
       "    <tr>\n",
       "      <th>A</th>\n",
       "      <td>52</td>\n",
       "    </tr>\n",
       "    <tr>\n",
       "      <th>B</th>\n",
       "      <td>441</td>\n",
       "    </tr>\n",
       "    <tr>\n",
       "      <th>D</th>\n",
       "      <td>38020</td>\n",
       "    </tr>\n",
       "    <tr>\n",
       "      <th>E</th>\n",
       "      <td>30</td>\n",
       "    </tr>\n",
       "    <tr>\n",
       "      <th>G</th>\n",
       "      <td>42</td>\n",
       "    </tr>\n",
       "    <tr>\n",
       "      <th>H</th>\n",
       "      <td>82</td>\n",
       "    </tr>\n",
       "    <tr>\n",
       "      <th>I</th>\n",
       "      <td>7670</td>\n",
       "    </tr>\n",
       "    <tr>\n",
       "      <th>J</th>\n",
       "      <td>161</td>\n",
       "    </tr>\n",
       "    <tr>\n",
       "      <th>L</th>\n",
       "      <td>98</td>\n",
       "    </tr>\n",
       "    <tr>\n",
       "      <th>M</th>\n",
       "      <td>1</td>\n",
       "    </tr>\n",
       "    <tr>\n",
       "      <th>O</th>\n",
       "      <td>33</td>\n",
       "    </tr>\n",
       "    <tr>\n",
       "      <th>Q</th>\n",
       "      <td>17</td>\n",
       "    </tr>\n",
       "    <tr>\n",
       "      <th>R</th>\n",
       "      <td>4851</td>\n",
       "    </tr>\n",
       "    <tr>\n",
       "      <th>T</th>\n",
       "      <td>14</td>\n",
       "    </tr>\n",
       "    <tr>\n",
       "      <th>V</th>\n",
       "      <td>11</td>\n",
       "    </tr>\n",
       "    <tr>\n",
       "      <th>W</th>\n",
       "      <td>333</td>\n",
       "    </tr>\n",
       "    <tr>\n",
       "      <th>Y</th>\n",
       "      <td>14</td>\n",
       "    </tr>\n",
       "    <tr>\n",
       "      <th>Z</th>\n",
       "      <td>39</td>\n",
       "    </tr>\n",
       "  </tbody>\n",
       "</table>\n",
       "</div>"
      ],
      "text/plain": [
       "           0\n",
       "PARTY       \n",
       "A         52\n",
       "B        441\n",
       "D      38020\n",
       "E         30\n",
       "G         42\n",
       "H         82\n",
       "I       7670\n",
       "J        161\n",
       "L         98\n",
       "M          1\n",
       "O         33\n",
       "Q         17\n",
       "R       4851\n",
       "T         14\n",
       "V         11\n",
       "W        333\n",
       "Y         14\n",
       "Z         39"
      ]
     },
     "execution_count": 28,
     "metadata": {},
     "output_type": "execute_result"
    }
   ],
   "source": [
    "df_party_counts "
   ]
  },
  {
   "cell_type": "markdown",
   "metadata": {},
   "source": [
    "Merge the two DataFrames."
   ]
  },
  {
   "cell_type": "code",
   "execution_count": 29,
   "metadata": {},
   "outputs": [],
   "source": [
    "# Merge DataFrame here \n",
    "merged_df = df_legal_names.merge(df_party_counts, left_on='PARTY', right_on='PARTY').sort_values(by=['PARTY','FIRST-NAME'])"
   ]
  },
  {
   "cell_type": "code",
   "execution_count": 30,
   "metadata": {},
   "outputs": [
    {
     "data": {
      "text/html": [
       "<div>\n",
       "<style scoped>\n",
       "    .dataframe tbody tr th:only-of-type {\n",
       "        vertical-align: middle;\n",
       "    }\n",
       "\n",
       "    .dataframe tbody tr th {\n",
       "        vertical-align: top;\n",
       "    }\n",
       "\n",
       "    .dataframe thead th {\n",
       "        text-align: right;\n",
       "    }\n",
       "</style>\n",
       "<table border=\"1\" class=\"dataframe\">\n",
       "  <thead>\n",
       "    <tr style=\"text-align: right;\">\n",
       "      <th></th>\n",
       "      <th>FIRST-NAME</th>\n",
       "      <th>LAST-NAME</th>\n",
       "      <th>MID-INIT</th>\n",
       "      <th>SUFFIX</th>\n",
       "      <th>PARTY</th>\n",
       "      <th>0</th>\n",
       "    </tr>\n",
       "  </thead>\n",
       "  <tbody>\n",
       "    <tr>\n",
       "      <th>30455</th>\n",
       "      <td>ALANA</td>\n",
       "      <td>JONES</td>\n",
       "      <td>G</td>\n",
       "      <td>NaN</td>\n",
       "      <td>A</td>\n",
       "      <td>52</td>\n",
       "    </tr>\n",
       "    <tr>\n",
       "      <th>49699</th>\n",
       "      <td>ALYSSA</td>\n",
       "      <td>PIERSON</td>\n",
       "      <td>M</td>\n",
       "      <td>NaN</td>\n",
       "      <td>A</td>\n",
       "      <td>52</td>\n",
       "    </tr>\n",
       "    <tr>\n",
       "      <th>26662</th>\n",
       "      <td>ANDREW-JAMES</td>\n",
       "      <td>GAYMON</td>\n",
       "      <td>D</td>\n",
       "      <td>NaN</td>\n",
       "      <td>A</td>\n",
       "      <td>52</td>\n",
       "    </tr>\n",
       "    <tr>\n",
       "      <th>2639</th>\n",
       "      <td>ARENA</td>\n",
       "      <td>JAMES</td>\n",
       "      <td>NaN</td>\n",
       "      <td>NaN</td>\n",
       "      <td>A</td>\n",
       "      <td>52</td>\n",
       "    </tr>\n",
       "    <tr>\n",
       "      <th>15382</th>\n",
       "      <td>ASHA</td>\n",
       "      <td>WATSON</td>\n",
       "      <td>L</td>\n",
       "      <td>NaN</td>\n",
       "      <td>A</td>\n",
       "      <td>52</td>\n",
       "    </tr>\n",
       "    <tr>\n",
       "      <th>...</th>\n",
       "      <td>...</td>\n",
       "      <td>...</td>\n",
       "      <td>...</td>\n",
       "      <td>...</td>\n",
       "      <td>...</td>\n",
       "      <td>...</td>\n",
       "    </tr>\n",
       "    <tr>\n",
       "      <th>22193</th>\n",
       "      <td>ULYSSES</td>\n",
       "      <td>JACKSON</td>\n",
       "      <td>D</td>\n",
       "      <td>NaN</td>\n",
       "      <td>Z</td>\n",
       "      <td>39</td>\n",
       "    </tr>\n",
       "    <tr>\n",
       "      <th>21712</th>\n",
       "      <td>VAN</td>\n",
       "      <td>WHITE</td>\n",
       "      <td>E</td>\n",
       "      <td>NaN</td>\n",
       "      <td>Z</td>\n",
       "      <td>39</td>\n",
       "    </tr>\n",
       "    <tr>\n",
       "      <th>20703</th>\n",
       "      <td>VIVIAN</td>\n",
       "      <td>TUCKER</td>\n",
       "      <td>E</td>\n",
       "      <td>NaN</td>\n",
       "      <td>Z</td>\n",
       "      <td>39</td>\n",
       "    </tr>\n",
       "    <tr>\n",
       "      <th>34659</th>\n",
       "      <td>WILHEM</td>\n",
       "      <td>ALCIVAR</td>\n",
       "      <td>A</td>\n",
       "      <td>NaN</td>\n",
       "      <td>Z</td>\n",
       "      <td>39</td>\n",
       "    </tr>\n",
       "    <tr>\n",
       "      <th>2543</th>\n",
       "      <td>ZANNIE</td>\n",
       "      <td>MCNEIL</td>\n",
       "      <td>NaN</td>\n",
       "      <td>JR</td>\n",
       "      <td>Z</td>\n",
       "      <td>39</td>\n",
       "    </tr>\n",
       "  </tbody>\n",
       "</table>\n",
       "<p>51909 rows × 6 columns</p>\n",
       "</div>"
      ],
      "text/plain": [
       "         FIRST-NAME LAST-NAME MID-INIT SUFFIX PARTY   0\n",
       "30455         ALANA     JONES        G    NaN     A  52\n",
       "49699        ALYSSA   PIERSON        M    NaN     A  52\n",
       "26662  ANDREW-JAMES    GAYMON        D    NaN     A  52\n",
       "2639          ARENA     JAMES      NaN    NaN     A  52\n",
       "15382          ASHA    WATSON        L    NaN     A  52\n",
       "...             ...       ...      ...    ...   ...  ..\n",
       "22193       ULYSSES   JACKSON        D    NaN     Z  39\n",
       "21712           VAN     WHITE        E    NaN     Z  39\n",
       "20703        VIVIAN    TUCKER        E    NaN     Z  39\n",
       "34659        WILHEM   ALCIVAR        A    NaN     Z  39\n",
       "2543         ZANNIE    MCNEIL      NaN     JR     Z  39\n",
       "\n",
       "[51909 rows x 6 columns]"
      ]
     },
     "execution_count": 30,
     "metadata": {},
     "output_type": "execute_result"
    }
   ],
   "source": [
    "# Display new DataFrame here \n",
    "merged_df"
   ]
  },
  {
   "cell_type": "markdown",
   "metadata": {},
   "source": [
    "Create a bar graph again but using the legal name for each party as the value on the x axes."
   ]
  },
  {
   "cell_type": "code",
   "execution_count": 33,
   "metadata": {},
   "outputs": [
    {
     "ename": "ValueError",
     "evalue": "x must be a label or position",
     "output_type": "error",
     "traceback": [
      "\u001b[0;31m---------------------------------------------------------------------------\u001b[0m",
      "\u001b[0;31mValueError\u001b[0m                                Traceback (most recent call last)",
      "Cell \u001b[0;32mIn[33], line 2\u001b[0m\n\u001b[1;32m      1\u001b[0m \u001b[38;5;66;03m# \u001b[39;00m\n\u001b[0;32m----> 2\u001b[0m \u001b[43mmerged_df\u001b[49m\u001b[43m[\u001b[49m\u001b[43m:\u001b[49m\u001b[38;5;241;43m10\u001b[39;49m\u001b[43m]\u001b[49m\u001b[38;5;241;43m.\u001b[39;49m\u001b[43mplot\u001b[49m\u001b[38;5;241;43m.\u001b[39;49m\u001b[43mbar\u001b[49m\u001b[43m(\u001b[49m\u001b[43mx\u001b[49m\u001b[38;5;241;43m=\u001b[39;49m\u001b[43m[\u001b[49m\u001b[38;5;124;43m'\u001b[39;49m\u001b[38;5;124;43mFIRST-NAME\u001b[39;49m\u001b[38;5;124;43m'\u001b[39;49m\u001b[43m,\u001b[49m\u001b[38;5;124;43m'\u001b[39;49m\u001b[38;5;124;43mLAST-NAME\u001b[39;49m\u001b[38;5;124;43m'\u001b[39;49m\u001b[43m,\u001b[49m\u001b[38;5;124;43m'\u001b[39;49m\u001b[38;5;124;43mMID-INIT\u001b[39;49m\u001b[38;5;124;43m'\u001b[39;49m\u001b[43m,\u001b[49m\u001b[38;5;124;43m'\u001b[39;49m\u001b[38;5;124;43mSUFFIX\u001b[39;49m\u001b[38;5;124;43m'\u001b[39;49m\u001b[43m]\u001b[49m\u001b[43m)\u001b[49m\n",
      "File \u001b[0;32m~/Library/jupyterlab-desktop/jlab_server/lib/python3.12/site-packages/pandas/plotting/_core.py:1192\u001b[0m, in \u001b[0;36mPlotAccessor.bar\u001b[0;34m(self, x, y, **kwargs)\u001b[0m\n\u001b[1;32m   1102\u001b[0m \u001b[38;5;129m@Appender\u001b[39m(\n\u001b[1;32m   1103\u001b[0m \u001b[38;5;250m    \u001b[39m\u001b[38;5;124;03m\"\"\"\u001b[39;00m\n\u001b[1;32m   1104\u001b[0m \u001b[38;5;124;03m    See Also\u001b[39;00m\n\u001b[0;32m   (...)\u001b[0m\n\u001b[1;32m   1181\u001b[0m     \u001b[38;5;28mself\u001b[39m, x: Hashable \u001b[38;5;241m|\u001b[39m \u001b[38;5;28;01mNone\u001b[39;00m \u001b[38;5;241m=\u001b[39m \u001b[38;5;28;01mNone\u001b[39;00m, y: Hashable \u001b[38;5;241m|\u001b[39m \u001b[38;5;28;01mNone\u001b[39;00m \u001b[38;5;241m=\u001b[39m \u001b[38;5;28;01mNone\u001b[39;00m, \u001b[38;5;241m*\u001b[39m\u001b[38;5;241m*\u001b[39mkwargs\n\u001b[1;32m   1182\u001b[0m ) \u001b[38;5;241m-\u001b[39m\u001b[38;5;241m>\u001b[39m PlotAccessor:\n\u001b[1;32m   1183\u001b[0m \u001b[38;5;250m    \u001b[39m\u001b[38;5;124;03m\"\"\"\u001b[39;00m\n\u001b[1;32m   1184\u001b[0m \u001b[38;5;124;03m    Vertical bar plot.\u001b[39;00m\n\u001b[1;32m   1185\u001b[0m \n\u001b[0;32m   (...)\u001b[0m\n\u001b[1;32m   1190\u001b[0m \u001b[38;5;124;03m    other axis represents a measured value.\u001b[39;00m\n\u001b[1;32m   1191\u001b[0m \u001b[38;5;124;03m    \"\"\"\u001b[39;00m\n\u001b[0;32m-> 1192\u001b[0m     \u001b[38;5;28;01mreturn\u001b[39;00m \u001b[38;5;28;43mself\u001b[39;49m\u001b[43m(\u001b[49m\u001b[43mkind\u001b[49m\u001b[38;5;241;43m=\u001b[39;49m\u001b[38;5;124;43m\"\u001b[39;49m\u001b[38;5;124;43mbar\u001b[39;49m\u001b[38;5;124;43m\"\u001b[39;49m\u001b[43m,\u001b[49m\u001b[43m \u001b[49m\u001b[43mx\u001b[49m\u001b[38;5;241;43m=\u001b[39;49m\u001b[43mx\u001b[49m\u001b[43m,\u001b[49m\u001b[43m \u001b[49m\u001b[43my\u001b[49m\u001b[38;5;241;43m=\u001b[39;49m\u001b[43my\u001b[49m\u001b[43m,\u001b[49m\u001b[43m \u001b[49m\u001b[38;5;241;43m*\u001b[39;49m\u001b[38;5;241;43m*\u001b[39;49m\u001b[43mkwargs\u001b[49m\u001b[43m)\u001b[49m\n",
      "File \u001b[0;32m~/Library/jupyterlab-desktop/jlab_server/lib/python3.12/site-packages/pandas/plotting/_core.py:996\u001b[0m, in \u001b[0;36mPlotAccessor.__call__\u001b[0;34m(self, *args, **kwargs)\u001b[0m\n\u001b[1;32m    994\u001b[0m         x \u001b[38;5;241m=\u001b[39m data_cols[x]\n\u001b[1;32m    995\u001b[0m     \u001b[38;5;28;01melif\u001b[39;00m \u001b[38;5;129;01mnot\u001b[39;00m \u001b[38;5;28misinstance\u001b[39m(data[x], ABCSeries):\n\u001b[0;32m--> 996\u001b[0m         \u001b[38;5;28;01mraise\u001b[39;00m \u001b[38;5;167;01mValueError\u001b[39;00m(\u001b[38;5;124m\"\u001b[39m\u001b[38;5;124mx must be a label or position\u001b[39m\u001b[38;5;124m\"\u001b[39m)\n\u001b[1;32m    997\u001b[0m     data \u001b[38;5;241m=\u001b[39m data\u001b[38;5;241m.\u001b[39mset_index(x)\n\u001b[1;32m    998\u001b[0m \u001b[38;5;28;01mif\u001b[39;00m y \u001b[38;5;129;01mis\u001b[39;00m \u001b[38;5;129;01mnot\u001b[39;00m \u001b[38;5;28;01mNone\u001b[39;00m:\n\u001b[1;32m    999\u001b[0m     \u001b[38;5;66;03m# check if we have y as int or list of ints\u001b[39;00m\n",
      "\u001b[0;31mValueError\u001b[0m: x must be a label or position"
     ]
    }
   ],
   "source": [
    "# \n",
    "merged_df[:10].plot.bar(x=['FIRST-NAME','LAST-NAME','MID-INIT','SUFFIX'])"
   ]
  },
  {
   "cell_type": "code",
   "execution_count": null,
   "metadata": {},
   "outputs": [],
   "source": []
  }
 ],
 "metadata": {
  "kernelspec": {
   "display_name": "Python 3 (ipykernel)",
   "language": "python",
   "name": "python3"
  },
  "language_info": {
   "codemirror_mode": {
    "name": "ipython",
    "version": 3
   },
   "file_extension": ".py",
   "mimetype": "text/x-python",
   "name": "python",
   "nbconvert_exporter": "python",
   "pygments_lexer": "ipython3",
   "version": "3.12.2"
  }
 },
 "nbformat": 4,
 "nbformat_minor": 4
}
